{
 "cells": [
  {
   "cell_type": "code",
   "execution_count": 2,
   "metadata": {},
   "outputs": [
    {
     "data": {
      "text/html": [
       "<p>To authorize access needed by Earth Engine, open the following\n",
       "        URL in a web browser and follow the instructions:</p>\n",
       "        <p><a href=https://code.earthengine.google.com/client-auth?scopes=https%3A//www.googleapis.com/auth/earthengine%20https%3A//www.googleapis.com/auth/devstorage.full_control&request_id=Nc0C_8NFXXCL_nJfnEYYEQj5UlgP4SWMdSCTOL57Fso&tc=yNeNu8SMiNNae0YarbA0x-i_n7c8hFEIxrrlRtAHoto&cc=9BWpeECyeqqSDWbIuuD5nvVA4yY1Cq6XL-VqhN478RU>https://code.earthengine.google.com/client-auth?scopes=https%3A//www.googleapis.com/auth/earthengine%20https%3A//www.googleapis.com/auth/devstorage.full_control&request_id=Nc0C_8NFXXCL_nJfnEYYEQj5UlgP4SWMdSCTOL57Fso&tc=yNeNu8SMiNNae0YarbA0x-i_n7c8hFEIxrrlRtAHoto&cc=9BWpeECyeqqSDWbIuuD5nvVA4yY1Cq6XL-VqhN478RU</a></p>\n",
       "        <p>The authorization workflow will generate a code, which you should paste in the box below.</p>\n",
       "        "
      ],
      "text/plain": [
       "<IPython.core.display.HTML object>"
      ]
     },
     "metadata": {},
     "output_type": "display_data"
    },
    {
     "name": "stdout",
     "output_type": "stream",
     "text": [
      "\n",
      "Successfully saved authorization token.\n"
     ]
    }
   ],
   "source": [
    "import ee\n",
    "\n",
    "# Trigger the authentication flow.\n",
    "ee.Authenticate()\n",
    "\n",
    "# Initialize the library.\n",
    "ee.Initialize()"
   ]
  },
  {
   "cell_type": "code",
   "execution_count": 4,
   "metadata": {},
   "outputs": [
    {
     "ename": "SyntaxError",
     "evalue": "invalid syntax (2537947249.py, line 10)",
     "output_type": "error",
     "traceback": [
      "\u001b[0;36m  Cell \u001b[0;32mIn [4], line 10\u001b[0;36m\u001b[0m\n\u001b[0;31m    .and(qa.bitwiseAnd(cirrusBitMask).eq(0)))\u001b[0m\n\u001b[0m     ^\u001b[0m\n\u001b[0;31mSyntaxError\u001b[0m\u001b[0;31m:\u001b[0m invalid syntax\n"
     ]
    }
   ],
   "source": [
    "# def maskS2clouds(image):\n",
    "#   qa = image.select('QA60');\n",
    "\n",
    "#   # Bits 10 and 11 are clouds and cirrus, respectively.\n",
    "#   cloudBitMask = 1 << 10\n",
    "#   cirrusBitMask = 1 << 11\n",
    "\n",
    "#   # Both flags should be set to zero, indicating clear conditions.\n",
    "#   mask = qa.bitwiseAnd(cloudBitMask).eq(0).and(qa.bitwiseAnd(cirrusBitMask).eq(0)\n",
    "#   return image.updateMask(mask).divide(10000).copyProperties(image, ['system:time_start']);"
   ]
  },
  {
   "cell_type": "code",
   "execution_count": 7,
   "metadata": {},
   "outputs": [],
   "source": [
    "def get_s2_sr_cld_col(aoi, start_year, end_year, start_month, end_month):\n",
    "    # Import and filter S2 SR.\n",
    "    s2_sr_col = (ee.ImageCollection('COPERNICUS/S2_SR_HARMONIZED')\n",
    "        .filterBounds(aoi)\n",
    "        .filter(ee.Filter.calendarRange(start_year,end_year,'year'))\n",
    "        .filter(ee.Filter.calendarRange(start_month,end_month,'month'))\n",
    "\n",
    "        .filter(ee.Filter.lt('CLOUDY_PIXEL_PERCENTAGE', 10))\n",
    "        .filterBounds(aoi.geometry().centroid())\n",
    "        )\n",
    "\n",
    "    # Import and filter s2cloudless.\n",
    "    s2_cloudless_col = (ee.ImageCollection('COPERNICUS/S2_CLOUD_PROBABILITY')\n",
    "        .filterBounds(aoi)\n",
    "        .filter(ee.Filter.calendarRange(start_year,end_year,'year'))\n",
    "        .filter(ee.Filter.calendarRange(start_month,end_month,'month'))\n",
    "    )\n",
    "\n",
    "    # Join the filtered s2cloudless collection to the SR collection by the 'system:index' property.\n",
    "    return ee.ImageCollection(ee.Join.saveFirst('s2cloudless').apply(**{\n",
    "        'primary': s2_sr_col,\n",
    "        'secondary': s2_cloudless_col,\n",
    "        'condition': ee.Filter.equals(**{\n",
    "            'leftField': 'system:index',\n",
    "            'rightField': 'system:index'\n",
    "        })\n",
    "    }))"
   ]
  },
  {
   "cell_type": "code",
   "execution_count": 13,
   "metadata": {},
   "outputs": [],
   "source": [
    "def clp(img):\n",
    "    return img.clip(AOI)"
   ]
  },
  {
   "cell_type": "code",
   "execution_count": 21,
   "metadata": {},
   "outputs": [],
   "source": [
    "\n",
    "\n",
    "\n",
    "def mosaicByDate(imcol):\n",
    "    def get_unique_dates(im):\n",
    "        return ee.Image(im).date().format(\"YYYY-MM-dd\")\n",
    "    def get_mosaic_imlist(d):\n",
    "        d = ee.Date(d)\n",
    "        im = imcol.filterDate(d, d.advance(1, \"day\")).mosaic()\n",
    "        return im.set(\n",
    "            \"system:time_start\", d.millis(), \n",
    "            \"system:id\", d.format(\"YYYY-MM-dd\"))\n",
    "\n",
    "    # imcol: An image collection\n",
    "    # returns: An image collection\n",
    "    imlist = imcol.toList(imcol.size())\n",
    "    unqiue_dates = imlist.map(get_unique_dates).distinct()\n",
    "    mosaic_imlist = unqiue_dates.map(get_mosaic_imlist)\n",
    "    return ee.ImageCollection(mosaic_imlist)"
   ]
  },
  {
   "cell_type": "code",
   "execution_count": 12,
   "metadata": {},
   "outputs": [],
   "source": [
    "HYBAS_ID=3100133910\n",
    "\n",
    "AOI = ee.FeatureCollection(\"WWF/HydroSHEDS/v1/Basins/hybas_10\").filter(ee.Filter.eq('HYBAS_ID', HYBAS_ID))\n",
    "\n",
    "centroid = AOI.geometry().centroid()\n",
    "geometry = centroid.buffer(**{'distance': 20000})"
   ]
  },
  {
   "cell_type": "code",
   "execution_count": 15,
   "metadata": {},
   "outputs": [],
   "source": [
    "s2_sr_cld_col_eval = get_s2_sr_cld_col(AOI, 2019, 2019, 5, 8).map(clp)"
   ]
  },
  {
   "cell_type": "code",
   "execution_count": 22,
   "metadata": {},
   "outputs": [],
   "source": [
    "dataset = mosaicByDate(s2_sr_cld_col_eval)"
   ]
  },
  {
   "cell_type": "code",
   "execution_count": 26,
   "metadata": {},
   "outputs": [],
   "source": [
    "# Import the folium library.\n",
    "import folium\n",
    "\n",
    "# Define a method for displaying Earth Engine image tiles to a folium map.\n",
    "def add_ee_layer(self, ee_image_object, vis_params, name, show=True, opacity=1, min_zoom=0):\n",
    "    map_id_dict = ee.Image(ee_image_object).getMapId(vis_params)\n",
    "    folium.raster_layers.TileLayer(\n",
    "        tiles=map_id_dict['tile_fetcher'].url_format,\n",
    "        attr='Map Data &copy; <a href=\"https://earthengine.google.com/\">Google Earth Engine</a>',\n",
    "        name=name,\n",
    "        show=show,\n",
    "        opacity=opacity,\n",
    "        min_zoom=min_zoom,\n",
    "        overlay=True,\n",
    "        control=True\n",
    "        ).add_to(self)\n",
    "\n",
    "# Add the Earth Engine layer method to folium.\n",
    "folium.Map.add_ee_layer = add_ee_layer"
   ]
  },
  {
   "cell_type": "code",
   "execution_count": null,
   "metadata": {},
   "outputs": [],
   "source": []
  }
 ],
 "metadata": {
  "kernelspec": {
   "display_name": "Python 3.9.13 ('gee')",
   "language": "python",
   "name": "python3"
  },
  "language_info": {
   "codemirror_mode": {
    "name": "ipython",
    "version": 3
   },
   "file_extension": ".py",
   "mimetype": "text/x-python",
   "name": "python",
   "nbconvert_exporter": "python",
   "pygments_lexer": "ipython3",
   "version": "3.9.13"
  },
  "orig_nbformat": 4,
  "vscode": {
   "interpreter": {
    "hash": "57c34f5226e67d1416349056cb7305af67334a7cc33986b13073a68e0bcc058c"
   }
  }
 },
 "nbformat": 4,
 "nbformat_minor": 2
}
