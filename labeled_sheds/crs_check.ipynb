{
 "cells": [
  {
   "cell_type": "code",
   "execution_count": 9,
   "metadata": {},
   "outputs": [],
   "source": [
    "import geopandas as gpd\n",
    "from pathlib import Path \n",
    "import glob"
   ]
  },
  {
   "cell_type": "code",
   "execution_count": 3,
   "metadata": {},
   "outputs": [
    {
     "data": {
      "text/plain": [
       "<Derived Projected CRS: PROJCS[\"WGS_84_EPSG_Alaska_Polar_Stereographic\",GE ...>\n",
       "Name: WGS_84_EPSG_Alaska_Polar_Stereographic\n",
       "Axis Info [cartesian]:\n",
       "- [south]: Easting (metre)\n",
       "- [south]: Northing (metre)\n",
       "Area of Use:\n",
       "- undefined\n",
       "Coordinate Operation:\n",
       "- name: unnamed\n",
       "- method: Polar Stereographic (variant B)\n",
       "Datum: World Geodetic System 1984\n",
       "- Ellipsoid: WGS 84\n",
       "- Prime Meridian: Greenwich"
      ]
     },
     "execution_count": 3,
     "metadata": {},
     "output_type": "execute_result"
    }
   ],
   "source": [
    "shape = gpd.read_file('polar_3100428970.shp')\n",
    "shape.crs"
   ]
  },
  {
   "cell_type": "code",
   "execution_count": 11,
   "metadata": {},
   "outputs": [
    {
     "name": "stdout",
     "output_type": "stream",
     "text": [
      "Made file polar_8100086980\n",
      "Made file polar_8100086500\n",
      "Made file polar_polar_8100086980\n",
      "Made file polar_polar_3100139900\n",
      "Made file polar_polar_8100093860\n",
      "Made file polar_3100133910\n",
      "Made file polar_polar_7100135340\n",
      "Made file polar_4100034420\n",
      "Made file polar_polar_8100089090\n",
      "Made file polar_polar_3100632300\n",
      "Made file polar_polar_3100121400\n",
      "Made file polar_8100197360\n",
      "Made file polar_4101175820\n",
      "Made file polar_2100134890\n",
      "Made file polar_3100489880\n",
      "Made file polar_8100203300\n",
      "Made file polar_polar_4100034420\n",
      "Made file polar_8100089090\n",
      "Made file polar_3100547800\n",
      "Made file polar_7100135340\n",
      "Made file polar_polar_8100211030\n",
      "Made file polar_polar_3100133910\n",
      "Made file polar_polar_2100193440\n",
      "Made file polar_8100211030\n",
      "Made file polar_7100030490\n",
      "Made file polar_3100139900\n",
      "Made file polar_polar_8100197360\n",
      "Made file polar_polar_7100030490\n",
      "Made file polar_polar_3100428970\n",
      "Made file polar_polar_8100086500\n",
      "Made file polar_polar_4101175820\n",
      "Made file polar_3100121400\n",
      "Made file polar_polar_2100134890\n",
      "Made file polar_polar_3100602320\n",
      "Made file polar_7100215390\n",
      "Made file polar_polar_3100845890\n",
      "Made file polar_polar_7100215390\n",
      "Made file polar_2100193440\n",
      "Made file polar_3100845890\n",
      "Made file polar_polar_3100547800\n",
      "Made file polar_3100632300\n",
      "Made file polar_3100602320\n",
      "Made file polar_8100093860\n",
      "Made file polar_3100428970\n",
      "Made file polar_polar_8100203300\n",
      "Made file polar_polar_3100489880\n"
     ]
    }
   ],
   "source": [
    "for shp in glob.glob('*.shp'):\n",
    "    shp = Path(shp)\n",
    "    shape = gpd.read_file(shp)\n",
    "    new = shape.to_crs(epsg=5936)\n",
    "    new.to_file((f'polar_{(shp.stem)}.shp'))\n",
    "    print(f'Made file polar_{shp.stem}.shp')\n"
   ]
  },
  {
   "cell_type": "code",
   "execution_count": 12,
   "metadata": {},
   "outputs": [
    {
     "data": {
      "text/plain": [
       "'polar_3100489880'"
      ]
     },
     "execution_count": 12,
     "metadata": {},
     "output_type": "execute_result"
    }
   ],
   "source": [
    "shp.stem"
   ]
  },
  {
   "cell_type": "code",
   "execution_count": null,
   "metadata": {},
   "outputs": [],
   "source": []
  }
 ],
 "metadata": {
  "kernelspec": {
   "display_name": "Python 3.9.13 ('gee')",
   "language": "python",
   "name": "python3"
  },
  "language_info": {
   "codemirror_mode": {
    "name": "ipython",
    "version": 3
   },
   "file_extension": ".py",
   "mimetype": "text/x-python",
   "name": "python",
   "nbconvert_exporter": "python",
   "pygments_lexer": "ipython3",
   "version": "3.9.13"
  },
  "orig_nbformat": 4,
  "vscode": {
   "interpreter": {
    "hash": "57c34f5226e67d1416349056cb7305af67334a7cc33986b13073a68e0bcc058c"
   }
  }
 },
 "nbformat": 4,
 "nbformat_minor": 2
}
